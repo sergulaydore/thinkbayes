{
 "cells": [
  {
   "cell_type": "code",
   "execution_count": 16,
   "metadata": {
    "collapsed": true
   },
   "outputs": [],
   "source": [
    "from ThinkBayes.code.thinkbayes import Pmf\n",
    "from ThinkBayes.code.thinkbayes import Suite\n",
    "from __future__ import division"
   ]
  },
  {
   "cell_type": "markdown",
   "metadata": {},
   "source": [
    "In Section 2.3 I said that the solution to the cookie problem generalizes to the case where we draw multiple cookies with replacement. But in the more likely scenario where we eat the cookies we draw, the like- lihood of each draw depends on the previous draws. Modify the solution in this chapter to handle selection without replacement. \n",
    "\n",
    "Hint: add instance variables to Cookie to represent the hypothetical state of the bowls, and modify Likelihood accordingly. You might want to define a Bowl object."
   ]
  },
  {
   "cell_type": "code",
   "execution_count": 81,
   "metadata": {
    "collapsed": false
   },
   "outputs": [],
   "source": [
    "class Cookie(Suite):\n",
    "    \n",
    "    def Bowl_State_Init(self):\n",
    "        Bowl1 = dict(vanilla=30, chocolate=10)\n",
    "        Bowl2 = dict(vanilla=20, chocolate=20)\n",
    "        self.Bowl = dict(Bowl1=Bowl1, Bowl2=Bowl2)\n",
    "        \n",
    "    def Bowl_State_Update(self, hypo, withdraw):\n",
    "        self.Bowl[hypo][withdraw] = self.Bowl[hypo][withdraw]-1\n",
    "            \n",
    "    def Likelihood(self, data, hypo):\n",
    "        #mix = self.mixes[hypo]\n",
    "        like = self.Bowl[hypo][data]/sum(self.Bowl[hypo].values())\n",
    "        return like\n",
    "    def Update(self, data):\n",
    "        for hypo in self.Values():\n",
    "            like = self.Likelihood(data, hypo)\n",
    "            print data, hypo, like\n",
    "            self.Mult(hypo, like)\n",
    "        print self.Normalize()\n",
    "        return self.Normalize()\n"
   ]
  },
  {
   "cell_type": "code",
   "execution_count": 82,
   "metadata": {
    "collapsed": false
   },
   "outputs": [],
   "source": [
    "hypos = ['Bowl1', 'Bowl2']\n",
    "pmf = Cookie(hypos)"
   ]
  },
  {
   "cell_type": "code",
   "execution_count": 83,
   "metadata": {
    "collapsed": false
   },
   "outputs": [
    {
     "name": "stdout",
     "output_type": "stream",
     "text": [
      "{'Bowl1': {'vanilla': 30, 'chocolate': 10}, 'Bowl2': {'vanilla': 20, 'chocolate': 20}}\n",
      "0.625\n",
      "Bowl1 0.6\n",
      "Bowl2 0.4\n"
     ]
    }
   ],
   "source": [
    "pmf.Bowl_State_Init()\n",
    "print pmf.Bowl\n",
    "pmf.Update('vanilla')\n",
    "pmf.Print()"
   ]
  },
  {
   "cell_type": "code",
   "execution_count": 77,
   "metadata": {
    "collapsed": false
   },
   "outputs": [
    {
     "name": "stdout",
     "output_type": "stream",
     "text": [
      "{'Bowl1': {'vanilla': 29, 'chocolate': 10}, 'Bowl2': {'vanilla': 20, 'chocolate': 20}}\n",
      "0.74358974359\n",
      "0.5\n",
      "Bowl1 0.690476190476\n",
      "Bowl2 0.309523809524\n"
     ]
    }
   ],
   "source": [
    "pmf.Bowl_State_Update('Bowl1', 'vanilla')\n",
    "print pmf.Bowl\n",
    "pmf.Update('vanilla')\n",
    "pmf.Print()"
   ]
  },
  {
   "cell_type": "code",
   "execution_count": 73,
   "metadata": {
    "collapsed": false
   },
   "outputs": [
    {
     "data": {
      "text/plain": [
       "0.5979381443299798"
      ]
     },
     "execution_count": 73,
     "metadata": {},
     "output_type": "execute_result"
    }
   ],
   "source": [
    "0.74358974359/(0.74358974359+0.5)"
   ]
  },
  {
   "cell_type": "code",
   "execution_count": 72,
   "metadata": {
    "collapsed": false
   },
   "outputs": [
    {
     "data": {
      "text/plain": [
       "[('Bowl1', 0.6904761904761905), ('Bowl2', 0.3095238095238095)]"
      ]
     },
     "execution_count": 72,
     "metadata": {},
     "output_type": "execute_result"
    }
   ],
   "source": [
    "pmf.Items()"
   ]
  },
  {
   "cell_type": "code",
   "execution_count": 58,
   "metadata": {
    "collapsed": false
   },
   "outputs": [
    {
     "data": {
      "text/plain": [
       "39"
      ]
     },
     "execution_count": 58,
     "metadata": {},
     "output_type": "execute_result"
    }
   ],
   "source": [
    "sum(b['Bowl1'].values())"
   ]
  },
  {
   "cell_type": "code",
   "execution_count": 63,
   "metadata": {
    "collapsed": false
   },
   "outputs": [
    {
     "data": {
      "text/plain": [
       "0.5979381443298969"
      ]
     },
     "execution_count": 63,
     "metadata": {},
     "output_type": "execute_result"
    }
   ],
   "source": [
    "(29/39/2)/(29/39/2+1/4)"
   ]
  },
  {
   "cell_type": "code",
   "execution_count": 69,
   "metadata": {
    "collapsed": false
   },
   "outputs": [
    {
     "data": {
      "text/plain": [
       "0.7435897435897436"
      ]
     },
     "execution_count": 69,
     "metadata": {},
     "output_type": "execute_result"
    }
   ],
   "source": [
    "29/39"
   ]
  },
  {
   "cell_type": "code",
   "execution_count": null,
   "metadata": {
    "collapsed": true
   },
   "outputs": [],
   "source": []
  }
 ],
 "metadata": {
  "kernelspec": {
   "display_name": "Python 2",
   "language": "python",
   "name": "python2"
  },
  "language_info": {
   "codemirror_mode": {
    "name": "ipython",
    "version": 2
   },
   "file_extension": ".py",
   "mimetype": "text/x-python",
   "name": "python",
   "nbconvert_exporter": "python",
   "pygments_lexer": "ipython2",
   "version": "2.7.10"
  }
 },
 "nbformat": 4,
 "nbformat_minor": 0
}
