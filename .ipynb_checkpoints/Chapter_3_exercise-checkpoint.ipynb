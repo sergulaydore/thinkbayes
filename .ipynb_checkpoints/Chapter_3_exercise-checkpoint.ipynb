{
 "cells": [
  {
   "cell_type": "markdown",
   "metadata": {},
   "source": [
    "To write a likelihood function for the locomotive problem, we had to answer this question: “If the railroad has N locomotives, what is the probability that we see number 60?”\n",
    "\n",
    "The answer depends on what sampling process we use when we observe the locomotive. In this chapter, I resolved the ambiguity by specifying that there is only one train-operating company (or only one that we care about).\n",
    "But suppose instead that there are many companies with different numbers of trains. And suppose that you are equally likely to see any train operated by any company. In that case, the likelihood function is different because you are more likely to see a train operated by a large company.\n",
    "As an exercise, implement the likelihood function for this variation of the locomotive problem, and compare the results."
   ]
  },
  {
   "cell_type": "code",
   "execution_count": 1,
   "metadata": {
    "collapsed": true
   },
   "outputs": [],
   "source": [
    "%matplotlib inline\n",
    "from ThinkBayes.code.thinkbayes import Pmf\n",
    "from ThinkBayes.code.thinkbayes import Suite\n",
    "from __future__ import division\n",
    "import matplotlib.pyplot as plt "
   ]
  },
  {
   "cell_type": "code",
   "execution_count": 2,
   "metadata": {
    "collapsed": true
   },
   "outputs": [],
   "source": [
    "class Train(Suite):\n",
    "    def __init__(self, hypos, alpha=1.0):\n",
    "        Pmf.__init__(self)\n",
    "        for hypo in hypos:\n",
    "            self.Set(hypo, hypo**(-alpha))\n",
    "        self.Normalize()\n",
    "    def Likelihood(self, data, hypo, Ns=[10, 100, 1000, 10000]):\n",
    "        # I got the idea from\n",
    "        # http://stats.stackexchange.com/questions/70096/locomotive-problem-with-various-size-companies\n",
    "        total_number_of_locomotives = sum(N for N in Ns)\n",
    "        number_of_locomotives_with_that_number = sum(1 for N in Ns if data<=N)\n",
    "        likelihood = (number_of_locomotives_with_that_number / total_number_of_locomotives)\n",
    "        return likelihood"
   ]
  },
  {
   "cell_type": "code",
   "execution_count": 3,
   "metadata": {
    "collapsed": false
   },
   "outputs": [
    {
     "data": {
      "text/plain": [
       "244.54756433830198"
      ]
     },
     "execution_count": 3,
     "metadata": {},
     "output_type": "execute_result"
    }
   ],
   "source": [
    "hypos = xrange(1, 2001)\n",
    "suite= Train(hypos)\n",
    "for data in [60, 30, 90]:\n",
    "    suite.Update(data)\n",
    "suite.Mean()"
   ]
  },
  {
   "cell_type": "code",
   "execution_count": null,
   "metadata": {
    "collapsed": true
   },
   "outputs": [],
   "source": []
  }
 ],
 "metadata": {
  "kernelspec": {
   "display_name": "Python 2",
   "language": "python",
   "name": "python2"
  },
  "language_info": {
   "codemirror_mode": {
    "name": "ipython",
    "version": 2
   },
   "file_extension": ".py",
   "mimetype": "text/x-python",
   "name": "python",
   "nbconvert_exporter": "python",
   "pygments_lexer": "ipython2",
   "version": "2.7.10"
  }
 },
 "nbformat": 4,
 "nbformat_minor": 0
}
