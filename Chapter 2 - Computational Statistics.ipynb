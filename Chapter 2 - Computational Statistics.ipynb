{
 "cells": [
  {
   "cell_type": "code",
   "execution_count": 42,
   "metadata": {
    "collapsed": false
   },
   "outputs": [],
   "source": [
    "from ThinkBayes.code.thinkbayes import Pmf\n",
    "from __future__ import division"
   ]
  },
  {
   "cell_type": "markdown",
   "metadata": {},
   "source": []
  },
  {
   "cell_type": "code",
   "execution_count": 12,
   "metadata": {
    "collapsed": false
   },
   "outputs": [],
   "source": [
    "pmf = Pmf()"
   ]
  },
  {
   "cell_type": "code",
   "execution_count": 18,
   "metadata": {
    "collapsed": false
   },
   "outputs": [],
   "source": [
    "for x in [1,2,3,4,5,6]: pmf.Set(x, 1/6.) "
   ]
  },
  {
   "cell_type": "code",
   "execution_count": 19,
   "metadata": {
    "collapsed": false
   },
   "outputs": [
    {
     "data": {
      "text/plain": [
       "[(1, 0.16666666666666666),\n",
       " (2, 0.16666666666666666),\n",
       " (3, 0.16666666666666666),\n",
       " (4, 0.16666666666666666),\n",
       " (5, 0.16666666666666666),\n",
       " (6, 0.16666666666666666)]"
      ]
     },
     "execution_count": 19,
     "metadata": {},
     "output_type": "execute_result"
    }
   ],
   "source": [
    "pmf.Items()"
   ]
  },
  {
   "cell_type": "code",
   "execution_count": 27,
   "metadata": {
    "collapsed": true
   },
   "outputs": [],
   "source": [
    "paragraph = \"William Ackman has long looked up to Warren Buffett. It took a massive, money-losing position—and an obsessive aversion to sugar—to cause some friction. The hedge-fund manager took a shot at Mr. Buffett’s longtime investment in Coca-Cola Co. on Wednesday, saying the soda company has caused enormous damage to society.The broadside came at a New York conference celebrating the Oracle of Omaha’s half-century running Berkshire Hathaway Inc. And it reflected growing frustration with repeated criticism from Mr. Buffett’s longtime sidekick against one of Mr. Ackman’s most prominent investments, Valeant Pharmaceuticals International Inc.That criticism by Berkshire Vice Chairman Charles Munger against Valeant included comments in an interview with The Wall Street Journal last week: It’s just a company that was too aggressive in ignoring moral considerations in the way it did business.Valeant has defended its ethics and says it is trying to do a better job of listening to its critics. Its stock, however, has tumbled amid questions about its relationship with specialty pharmacies that distribute its drugs and its growth prospects, producing losses on paper of more than $2 billion for Mr. Ackman’s Pershing Square Capital Management LP.\""
   ]
  },
  {
   "cell_type": "code",
   "execution_count": 31,
   "metadata": {
    "collapsed": false
   },
   "outputs": [],
   "source": [
    "word_list = paragraph.split(' ')"
   ]
  },
  {
   "cell_type": "code",
   "execution_count": 32,
   "metadata": {
    "collapsed": true
   },
   "outputs": [],
   "source": [
    "pmf = Pmf()\n",
    "for word in word_list:\n",
    "    pmf.Incr(word,1)"
   ]
  },
  {
   "cell_type": "code",
   "execution_count": 34,
   "metadata": {
    "collapsed": false
   },
   "outputs": [
    {
     "data": {
      "text/plain": [
       "187"
      ]
     },
     "execution_count": 34,
     "metadata": {},
     "output_type": "execute_result"
    }
   ],
   "source": [
    "pmf.Normalize()"
   ]
  },
  {
   "cell_type": "code",
   "execution_count": 35,
   "metadata": {
    "collapsed": false
   },
   "outputs": [
    {
     "data": {
      "text/plain": [
       "0.0106951871657754"
      ]
     },
     "execution_count": 35,
     "metadata": {},
     "output_type": "execute_result"
    }
   ],
   "source": [
    "pmf.Prob(\"Valeant\")"
   ]
  },
  {
   "cell_type": "markdown",
   "metadata": {},
   "source": [
    "# The Cookie Problem"
   ]
  },
  {
   "cell_type": "code",
   "execution_count": 37,
   "metadata": {
    "collapsed": true
   },
   "outputs": [],
   "source": [
    "# Prior Distribution\n",
    "pmf = Pmf()\n",
    "pmf.Set(\"Bowl 1\", 0.5)\n",
    "pmf.Set(\"Bowl 2\", 0.5)"
   ]
  },
  {
   "cell_type": "markdown",
   "metadata": {},
   "source": [
    "The likelihood of drawing a vanilla cookie from Bowl 1 is 3/4. The likelihood for Bowl 2 is 1/2."
   ]
  },
  {
   "cell_type": "code",
   "execution_count": 38,
   "metadata": {
    "collapsed": true
   },
   "outputs": [],
   "source": [
    "pmf.Mult(\"Bowl 1\", 0.75)\n",
    "pmf.Mult(\"Bowl 2\", 0.5)"
   ]
  },
  {
   "cell_type": "code",
   "execution_count": 39,
   "metadata": {
    "collapsed": false
   },
   "outputs": [
    {
     "data": {
      "text/plain": [
       "[('Bowl 2', 0.25), ('Bowl 1', 0.375)]"
      ]
     },
     "execution_count": 39,
     "metadata": {},
     "output_type": "execute_result"
    }
   ],
   "source": [
    "pmf.Items()"
   ]
  },
  {
   "cell_type": "code",
   "execution_count": 40,
   "metadata": {
    "collapsed": false
   },
   "outputs": [
    {
     "data": {
      "text/plain": [
       "0.625"
      ]
     },
     "execution_count": 40,
     "metadata": {},
     "output_type": "execute_result"
    }
   ],
   "source": [
    "pmf.Normalize()"
   ]
  },
  {
   "cell_type": "code",
   "execution_count": 46,
   "metadata": {
    "collapsed": false
   },
   "outputs": [
    {
     "data": {
      "text/plain": [
       "[('Bowl 2', 0.4), ('Bowl 1', 0.6000000000000001)]"
      ]
     },
     "execution_count": 46,
     "metadata": {},
     "output_type": "execute_result"
    }
   ],
   "source": [
    "# posterior probability of bowls given the cookie is vanilla\n",
    "pmf.Items()"
   ]
  },
  {
   "cell_type": "markdown",
   "metadata": {},
   "source": [
    "# The Bayesian Framework"
   ]
  },
  {
   "cell_type": "code",
   "execution_count": 62,
   "metadata": {
    "collapsed": true
   },
   "outputs": [],
   "source": [
    "class Cookie(Pmf):\n",
    "    def __init__(self, hypos):\n",
    "        Pmf.__init__(self)\n",
    "        for hypo in hypos:\n",
    "            self.Set(hypo, 1)\n",
    "        self.Normalize()\n",
    "    def Update(self, data):\n",
    "        for hypo in self.Values():\n",
    "            like = self.Likelihood(data, hypo)\n",
    "            self.Mult(hypo, like)\n",
    "        self.Normalize()\n",
    "    mixes = {\n",
    "    'Bowl 1': dict(vanilla=0.75, chocolate=0.25),\n",
    "    'Bowl 2': dict(vanilla=0.5, chocolate=0.5)\n",
    "    }\n",
    "    def Likelihood(self, data, hypo):\n",
    "        mix = self.mixes[hypo]\n",
    "        like = mix[data]\n",
    "        return like"
   ]
  },
  {
   "cell_type": "code",
   "execution_count": 63,
   "metadata": {
    "collapsed": true
   },
   "outputs": [],
   "source": [
    "hypos = ['Bowl 1', 'Bowl 2']\n",
    "pmf = Cookie(hypos)"
   ]
  },
  {
   "cell_type": "code",
   "execution_count": 64,
   "metadata": {
    "collapsed": false
   },
   "outputs": [],
   "source": [
    "pmf.Update('vanilla')"
   ]
  },
  {
   "cell_type": "code",
   "execution_count": 67,
   "metadata": {
    "collapsed": false
   },
   "outputs": [
    {
     "name": "stdout",
     "output_type": "stream",
     "text": [
      "Bowl 2 0.4\n",
      "Bowl 1 0.6\n"
     ]
    }
   ],
   "source": [
    "# Posterior Prob of each hypothesis\n",
    "for hypo, prob in pmf.Items():\n",
    "    print hypo, prob"
   ]
  },
  {
   "cell_type": "markdown",
   "metadata": {},
   "source": [
    "# The Monty Hall Problem"
   ]
  },
  {
   "cell_type": "markdown",
   "metadata": {},
   "source": [
    "Monty shows you three closed doors and tells you that there is a prize behind each door: one prize is a car, the other two are less valuable prizes like peanut butter and fake finger nails. The prizes are arranged at random."
   ]
  },
  {
   "cell_type": "markdown",
   "metadata": {},
   "source": [
    "The object of the game is to guess which door has the car. If you guess right, you get to keep the car."
   ]
  },
  {
   "cell_type": "markdown",
   "metadata": {},
   "source": [
    "You pick a door, which we will call Door A. We’ll call the other doors B and C."
   ]
  },
  {
   "cell_type": "markdown",
   "metadata": {},
   "source": [
    "Before opening the door you chose, Monty increases the suspense by opening either Door B or C, whichever does not have the car. (If the car is actually behind Door A, Monty can safely open B or C, so he chooses one at random.)"
   ]
  },
  {
   "cell_type": "markdown",
   "metadata": {},
   "source": [
    "Then Monty offers you the option to stick with your original choice or switch to the one remaining unopened door."
   ]
  },
  {
   "cell_type": "markdown",
   "metadata": {},
   "source": [
    "The question is, should you “stick” or “switch” or does it make no differ- ence?"
   ]
  },
  {
   "cell_type": "code",
   "execution_count": 70,
   "metadata": {
    "collapsed": true
   },
   "outputs": [],
   "source": [
    "class Monty(Pmf):\n",
    "    def __init__(self, hypos):\n",
    "        Pmf.__init__(self)\n",
    "        for hypo in hypos:\n",
    "            self.Set(hypo, 1)\n",
    "        self.Normalize()\n",
    "    def Update(self, data):\n",
    "        for hypo in self.Values():\n",
    "            like = self.Likelihood(data, hypo)\n",
    "            self.Mult(hypo, like)\n",
    "        self.Normalize()\n",
    "    def Likelihood(self, data, hypo):\n",
    "        if hypo == data:\n",
    "            return 0\n",
    "        elif hypo == 'A':\n",
    "            return 0.5\n",
    "        else:\n",
    "            return 1"
   ]
  },
  {
   "cell_type": "code",
   "execution_count": 71,
   "metadata": {
    "collapsed": false
   },
   "outputs": [],
   "source": [
    "hypos = 'ABC'\n",
    "pmf = Monty(hypos)\n",
    "data = 'B'\n",
    "pmf.Update(data)"
   ]
  },
  {
   "cell_type": "code",
   "execution_count": 72,
   "metadata": {
    "collapsed": false
   },
   "outputs": [
    {
     "name": "stdout",
     "output_type": "stream",
     "text": [
      "A 0.333333333333\n",
      "C 0.666666666667\n",
      "B 0.0\n"
     ]
    }
   ],
   "source": [
    "for hypo, prob in pmf.Items():\n",
    "    print hypo, prob"
   ]
  },
  {
   "cell_type": "markdown",
   "metadata": {},
   "source": [
    "# Encapsulating the Framework"
   ]
  },
  {
   "cell_type": "code",
   "execution_count": null,
   "metadata": {
    "collapsed": true
   },
   "outputs": [],
   "source": [
    "class Suite(Pmf):\n",
    "    \"\"\"Represents a suite of hypotheses and their probabilities\"\"\"\n",
    "    def __init__(self, hypo=tuple()):\n",
    "        \"\"\"Initializes the distribution\"\"\"\n",
    "    def Update(self):\n",
    "        \"\"\"Updates each hypothesis based on the data\"\"\"\n",
    "    def Print(self):\n",
    "        \"\"\"Prints the hypotheses and their probabilities\"\"\""
   ]
  },
  {
   "cell_type": "code",
   "execution_count": 73,
   "metadata": {
    "collapsed": true
   },
   "outputs": [],
   "source": [
    "from ThinkBayes.code.thinkbayes import Suite"
   ]
  },
  {
   "cell_type": "code",
   "execution_count": 74,
   "metadata": {
    "collapsed": true
   },
   "outputs": [],
   "source": [
    "class Monty(Suite):\n",
    "    def Likelihood(self, data, hypo):\n",
    "        if hypo == data:\n",
    "            return 0\n",
    "        elif hypo == 'A':\n",
    "            return 0.5\n",
    "        else:\n",
    "            return 1"
   ]
  },
  {
   "cell_type": "code",
   "execution_count": 75,
   "metadata": {
    "collapsed": true
   },
   "outputs": [],
   "source": [
    "suite = Monty('ABC')"
   ]
  },
  {
   "cell_type": "code",
   "execution_count": 76,
   "metadata": {
    "collapsed": false
   },
   "outputs": [
    {
     "data": {
      "text/plain": [
       "0.5"
      ]
     },
     "execution_count": 76,
     "metadata": {},
     "output_type": "execute_result"
    }
   ],
   "source": [
    "suite.Update('B')"
   ]
  },
  {
   "cell_type": "code",
   "execution_count": 77,
   "metadata": {
    "collapsed": false
   },
   "outputs": [
    {
     "name": "stdout",
     "output_type": "stream",
     "text": [
      "A 0.333333333333\n",
      "B 0.0\n",
      "C 0.666666666667\n"
     ]
    }
   ],
   "source": [
    "suite.Print()"
   ]
  },
  {
   "cell_type": "markdown",
   "metadata": {},
   "source": [
    "# The M&M Problem"
   ]
  },
  {
   "cell_type": "markdown",
   "metadata": {},
   "source": [
    "In 1995, they introduced blue M&M’s. Before then, the color mix in a bag of plain M&M’s was 30% Brown, 20% Yellow, 20% Red, 10% Green, 10% Orange, 10% Tan. Afterward it was 24% Blue , 20% Green, 16% Orange, 14% Yellow, 13% Red, 13% Brown."
   ]
  },
  {
   "cell_type": "markdown",
   "metadata": {},
   "source": [
    "Suppose a friend of mine has two bags of M&M’s, and he tells me that one is from 1994 and one from 1996. He won’t tell me which is which, but he gives me one M&M from each bag. One is yellow and one is green. What is the probability that the yellow one came from the 1994 bag?"
   ]
  },
  {
   "cell_type": "code",
   "execution_count": 80,
   "metadata": {
    "collapsed": false
   },
   "outputs": [],
   "source": [
    "mix94 = dict(brown=30, yellow=20, red=20, green=10, orange=10, tan=10)\n",
    "mix96 = dict(blue=24, green=20, orange=16, yellow=14, red=13, brown=13)"
   ]
  },
  {
   "cell_type": "code",
   "execution_count": 81,
   "metadata": {
    "collapsed": true
   },
   "outputs": [],
   "source": [
    "hypoA = dict(bag1=mix94, bag2=mix96)\n",
    "hypoB = dict(bag1=mix96, bag2=mix94)"
   ]
  },
  {
   "cell_type": "code",
   "execution_count": 82,
   "metadata": {
    "collapsed": true
   },
   "outputs": [],
   "source": [
    "hypotheses = dict(A=hypoA, B=hypoB)"
   ]
  },
  {
   "cell_type": "code",
   "execution_count": 84,
   "metadata": {
    "collapsed": false
   },
   "outputs": [],
   "source": [
    "class M_and_M(Suite):\n",
    "    mix94 = dict(brown=30, yellow=20, red=20, green=10, orange=10, tan=10)\n",
    "    mix96 = dict(blue=24, green=20, orange=16, yellow=14, red=13, brown=13)\n",
    "    hypoA = dict(bag1=mix94, bag2=mix96)\n",
    "    hypoB = dict(bag1=mix96, bag2=mix94)\n",
    "    hypotheses = dict(A=hypoA, B=hypoB)\n",
    "    def Likelihood(self, data, hypo):\n",
    "        bag, color = data\n",
    "        mix = self.hypotheses[hypo][bag]\n",
    "        like = mix[color]\n",
    "        return like"
   ]
  },
  {
   "cell_type": "code",
   "execution_count": 85,
   "metadata": {
    "collapsed": true
   },
   "outputs": [],
   "source": [
    "suite = M_and_M('AB')"
   ]
  },
  {
   "cell_type": "code",
   "execution_count": 86,
   "metadata": {
    "collapsed": false
   },
   "outputs": [
    {
     "data": {
      "text/plain": [
       "15.882352941176471"
      ]
     },
     "execution_count": 86,
     "metadata": {},
     "output_type": "execute_result"
    }
   ],
   "source": [
    "suite.Update(('bag1', 'yellow'))\n",
    "suite.Update(('bag2', 'green'))"
   ]
  },
  {
   "cell_type": "code",
   "execution_count": 87,
   "metadata": {
    "collapsed": false
   },
   "outputs": [
    {
     "name": "stdout",
     "output_type": "stream",
     "text": [
      "A 0.740740740741\n",
      "B 0.259259259259\n"
     ]
    }
   ],
   "source": [
    "suite.Print()"
   ]
  },
  {
   "cell_type": "code",
   "execution_count": null,
   "metadata": {
    "collapsed": true
   },
   "outputs": [],
   "source": []
  }
 ],
 "metadata": {
  "kernelspec": {
   "display_name": "Python 2",
   "language": "python",
   "name": "python2"
  },
  "language_info": {
   "codemirror_mode": {
    "name": "ipython",
    "version": 2
   },
   "file_extension": ".py",
   "mimetype": "text/x-python",
   "name": "python",
   "nbconvert_exporter": "python",
   "pygments_lexer": "ipython2",
   "version": "2.7.10"
  }
 },
 "nbformat": 4,
 "nbformat_minor": 0
}
