{
 "cells": [
  {
   "cell_type": "code",
   "execution_count": 16,
   "metadata": {
    "collapsed": true
   },
   "outputs": [],
   "source": [
    "from ThinkBayes.code.thinkbayes import Pmf\n",
    "from ThinkBayes.code.thinkbayes import Suite\n",
    "from __future__ import division"
   ]
  },
  {
   "cell_type": "markdown",
   "metadata": {},
   "source": [
    "In Section 2.3 I said that the solution to the cookie problem generalizes to the case where we draw multiple cookies with replacement. But in the more likely scenario where we eat the cookies we draw, the like- lihood of each draw depends on the previous draws. Modify the solution in this chapter to handle selection without replacement. \n",
    "\n",
    "Hint: add instance variables to Cookie to represent the hypothetical state of the bowls, and modify Likelihood accordingly. You might want to define a Bowl object."
   ]
  },
  {
   "cell_type": "code",
   "execution_count": 95,
   "metadata": {
    "collapsed": false
   },
   "outputs": [],
   "source": [
    "class Cookie(Suite):\n",
    "    \n",
    "    def __init__(self, hypos):\n",
    "        Pmf.__init__(self)\n",
    "        for hypo in hypos:\n",
    "            self.Set(hypo, 1)\n",
    "        self.Normalize()\n",
    "    \n",
    "    def Bowl_State_Init(self):\n",
    "        Bowl1 = dict(vanilla=30, chocolate=10)\n",
    "        Bowl2 = dict(vanilla=20, chocolate=20)\n",
    "        self.Bowl = dict(Bowl1=Bowl1, Bowl2=Bowl2)\n",
    "        \n",
    "    def Bowl_State_Update(self, hypo, withdraw):\n",
    "        self.Bowl[hypo][withdraw] = self.Bowl[hypo][withdraw]-1\n",
    "            \n",
    "    def Likelihood(self, data, hypo):\n",
    "        like = self.Bowl[hypo][data]/sum(self.Bowl[hypo].values())\n",
    "        return like\n",
    "    \n",
    "    def Update(self, data):\n",
    "        for hypo in self.Values():\n",
    "            like = self.Likelihood(data, hypo)\n",
    "            self.Mult(hypo, like)\n",
    "        return self.Normalize()\n"
   ]
  },
  {
   "cell_type": "code",
   "execution_count": 96,
   "metadata": {
    "collapsed": false
   },
   "outputs": [],
   "source": [
    "hypos = ['Bowl1', 'Bowl2']\n",
    "pmf = Cookie(hypos)"
   ]
  },
  {
   "cell_type": "code",
   "execution_count": 97,
   "metadata": {
    "collapsed": false
   },
   "outputs": [
    {
     "name": "stdout",
     "output_type": "stream",
     "text": [
      "{'Bowl1': {'vanilla': 30, 'chocolate': 10}, 'Bowl2': {'vanilla': 20, 'chocolate': 20}}\n",
      "Bowl1 0.6\n",
      "Bowl2 0.4\n"
     ]
    }
   ],
   "source": [
    "pmf.Bowl_State_Init()\n",
    "print pmf.Bowl\n",
    "pmf.Update('vanilla')\n",
    "pmf.Print()"
   ]
  },
  {
   "cell_type": "code",
   "execution_count": 98,
   "metadata": {
    "collapsed": false
   },
   "outputs": [
    {
     "name": "stdout",
     "output_type": "stream",
     "text": [
      "{'Bowl1': {'vanilla': 29, 'chocolate': 10}, 'Bowl2': {'vanilla': 20, 'chocolate': 20}}\n",
      "Bowl1 0.59793814433\n",
      "Bowl2 0.40206185567\n"
     ]
    }
   ],
   "source": [
    "pmf.Bowl_State_Update('Bowl1', 'vanilla')\n",
    "pmf.__init__(hypos)\n",
    "print pmf.Bowl\n",
    "pmf.Update('vanilla')\n",
    "pmf.Print()"
   ]
  },
  {
   "cell_type": "code",
   "execution_count": null,
   "metadata": {
    "collapsed": true
   },
   "outputs": [],
   "source": []
  }
 ],
 "metadata": {
  "kernelspec": {
   "display_name": "Python 2",
   "language": "python",
   "name": "python2"
  },
  "language_info": {
   "codemirror_mode": {
    "name": "ipython",
    "version": 2
   },
   "file_extension": ".py",
   "mimetype": "text/x-python",
   "name": "python",
   "nbconvert_exporter": "python",
   "pygments_lexer": "ipython2",
   "version": "2.7.10"
  }
 },
 "nbformat": 4,
 "nbformat_minor": 0
}
